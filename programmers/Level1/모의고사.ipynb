{
 "cells": [
  {
   "cell_type": "code",
   "execution_count": null,
   "metadata": {},
   "outputs": [],
   "source": [
    "def solution(answers):\n",
    "    answer = []\n",
    "    total = [0, 0, 0]\n",
    "    PATTERN_1 = [1, 2, 3, 4, 5]\n",
    "    PATTERN_2 = [1, 3, 4, 5]\n",
    "    PATTERN_3 = [3, 1, 2, 4, 5]\n",
    "    math_1 = lambda x: PATTERN_1[x%5]\n",
    "    math_2 = lambda x: 2 if x%2==0 else PATTERN_2[(x//2)%4]\n",
    "    math_3 = lambda x: PATTERN_3[(x//2)%5]\n",
    "    for i, vi in enumerate(answers):\n",
    "        if vi == math_1(i):\n",
    "            total[0] += 1\n",
    "        if vi == math_2(i):\n",
    "            total[1] += 1\n",
    "        if vi == math_3(i):\n",
    "            total[2] += 1\n",
    "    max_idx = -1\n",
    "    max_score = -1\n",
    "    for i, vi in enumerate(total):\n",
    "        if max_score < vi:\n",
    "            max_score = vi\n",
    "            max_idx = i\n",
    "    answer.append(max_idx+1)\n",
    "    for i in range(answer[0], 3):\n",
    "        if max_score == total[i]:\n",
    "            answer.append(i+1)\n",
    "            \n",
    "    return answer"
   ]
  }
 ],
 "metadata": {
  "kernelspec": {
   "display_name": "Python 3",
   "language": "python",
   "name": "python3"
  },
  "language_info": {
   "codemirror_mode": {
    "name": "ipython",
    "version": 3
   },
   "file_extension": ".py",
   "mimetype": "text/x-python",
   "name": "python",
   "nbconvert_exporter": "python",
   "pygments_lexer": "ipython3",
   "version": "3.7.3"
  }
 },
 "nbformat": 4,
 "nbformat_minor": 4
}
