{
 "cells": [
  {
   "cell_type": "code",
   "execution_count": null,
   "metadata": {},
   "outputs": [],
   "source": [
    "def solution(numbers):\n",
    "    answer = []\n",
    "    checklist = [False for i in range(0,200)]\n",
    "    for i, ki in enumerate(numbers):\n",
    "        for j, kj in enumerate(numbers):\n",
    "            if not i == j:\n",
    "                checklist[ki + kj] = True\n",
    "    \n",
    "    for i, ki in enumerate(checklist):\n",
    "        if ki:\n",
    "            answer.append(i)\n",
    "    \n",
    "    return answer"
   ]
  }
 ],
 "metadata": {
  "kernelspec": {
   "display_name": "Python 3",
   "language": "python",
   "name": "python3"
  },
  "language_info": {
   "codemirror_mode": {
    "name": "ipython",
    "version": 3
   },
   "file_extension": ".py",
   "mimetype": "text/x-python",
   "name": "python",
   "nbconvert_exporter": "python",
   "pygments_lexer": "ipython3",
   "version": "3.7.3"
  }
 },
 "nbformat": 4,
 "nbformat_minor": 4
}
