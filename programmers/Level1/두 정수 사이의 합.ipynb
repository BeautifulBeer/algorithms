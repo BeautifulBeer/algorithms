{
 "cells": [
  {
   "cell_type": "code",
   "execution_count": null,
   "metadata": {},
   "outputs": [],
   "source": [
    "def solution(a, b):\n",
    "    answer = 0\n",
    "    if a > b:\n",
    "        tmp = a\n",
    "        a = b\n",
    "        b = tmp\n",
    "    summation = lambda x: (x*x + x)/2\n",
    "    if a <= 0 and b <= 0:\n",
    "        answer = (summation(abs(a)) - summation(abs(b)-1)) * -1\n",
    "    elif a <= 0 and b >= 0:\n",
    "        answer = summation(abs(a)) * -1 + summation(b)\n",
    "    else:\n",
    "        answer = summation(b) - summation(a-1)\n",
    "    return answer"
   ]
  }
 ],
 "metadata": {
  "kernelspec": {
   "display_name": "Python 3",
   "language": "python",
   "name": "python3"
  },
  "language_info": {
   "codemirror_mode": {
    "name": "ipython",
    "version": 3
   },
   "file_extension": ".py",
   "mimetype": "text/x-python",
   "name": "python",
   "nbconvert_exporter": "python",
   "pygments_lexer": "ipython3",
   "version": "3.7.3"
  }
 },
 "nbformat": 4,
 "nbformat_minor": 4
}
