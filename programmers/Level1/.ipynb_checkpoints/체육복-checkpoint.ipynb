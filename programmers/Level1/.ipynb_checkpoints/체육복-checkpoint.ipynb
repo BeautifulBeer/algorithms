{
 "cells": [
  {
   "cell_type": "code",
   "execution_count": null,
   "metadata": {},
   "outputs": [],
   "source": [
    "def solution(n, lost, reserve):\n",
    "    answer = 0\n",
    "    l = 0\n",
    "    r = 0\n",
    "    lost_set = set(lost)\n",
    "    reserve_set = set(reserve)\n",
    "    intersect = lost_set.intersection(reserve_set)\n",
    "    lost_set -= intersect\n",
    "    reserve_set -= intersect\n",
    "    lost = sorted(list(lost_set))\n",
    "    reserve = sorted(list(reserve_set))\n",
    "    while l < len(lost) and r < len(reserve):\n",
    "        if lost[l] < reserve[r]:\n",
    "            if lost[l] == reserve[r] - 1:\n",
    "                answer += 1\n",
    "                r += 1\n",
    "            l += 1\n",
    "        else:\n",
    "            if lost[l] == reserve[r] + 1:\n",
    "                answer += 1\n",
    "                l += 1\n",
    "            r += 1\n",
    "    answer = n - len(lost) + answer\n",
    "    return answer"
   ]
  }
 ],
 "metadata": {
  "kernelspec": {
   "display_name": "Python 3",
   "language": "python",
   "name": "python3"
  },
  "language_info": {
   "codemirror_mode": {
    "name": "ipython",
    "version": 3
   },
   "file_extension": ".py",
   "mimetype": "text/x-python",
   "name": "python",
   "nbconvert_exporter": "python",
   "pygments_lexer": "ipython3",
   "version": "3.7.3"
  }
 },
 "nbformat": 4,
 "nbformat_minor": 4
}
