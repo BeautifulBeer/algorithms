{
 "cells": [
  {
   "cell_type": "code",
   "execution_count": null,
   "metadata": {},
   "outputs": [],
   "source": [
    "def solution(board, moves):\n",
    "    answer = 0\n",
    "    N = len(board)\n",
    "    peaks = [N for i in range(N)]\n",
    "    moves = [val-1 for idx, val in enumerate(moves)]\n",
    "    stack = []\n",
    "    for i in range(N):\n",
    "        for j in range(N):\n",
    "            if board[j][i] != 0:\n",
    "                peaks[i] = j\n",
    "                break\n",
    "    for _, val in enumerate(moves):\n",
    "        if peaks[val] < N:\n",
    "            tmp = board[peaks[val]][val]\n",
    "            peaks[val] += 1\n",
    "            if len(stack) > 0 and stack[-1] == tmp:\n",
    "                answer = answer + 2\n",
    "                stack.pop()\n",
    "            else:\n",
    "                stack.append(tmp)\n",
    "    return answer"
   ]
  }
 ],
 "metadata": {
  "kernelspec": {
   "display_name": "Python 3",
   "language": "python",
   "name": "python3"
  },
  "language_info": {
   "codemirror_mode": {
    "name": "ipython",
    "version": 3
   },
   "file_extension": ".py",
   "mimetype": "text/x-python",
   "name": "python",
   "nbconvert_exporter": "python",
   "pygments_lexer": "ipython3",
   "version": "3.7.3"
  }
 },
 "nbformat": 4,
 "nbformat_minor": 4
}
