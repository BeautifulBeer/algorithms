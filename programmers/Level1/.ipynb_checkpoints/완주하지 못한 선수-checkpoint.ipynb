{
 "cells": [
  {
   "cell_type": "code",
   "execution_count": null,
   "metadata": {},
   "outputs": [],
   "source": [
    "def solution(participant, completion):\n",
    "    answer = ''\n",
    "    marathon = {}\n",
    "    for i, vi in enumerate(participant):\n",
    "        if not vi in marathon:\n",
    "            marathon[vi] = 1\n",
    "        else:\n",
    "            marathon[vi] += 1\n",
    "    for i, vi in enumerate(completion):\n",
    "        marathon[vi] -= 1\n",
    "    for _, k in enumerate(marathon):\n",
    "        if  marathon[k] > 0:\n",
    "            answer = k\n",
    "            break\n",
    "    return answer"
   ]
  }
 ],
 "metadata": {
  "kernelspec": {
   "display_name": "Python 3",
   "language": "python",
   "name": "python3"
  },
  "language_info": {
   "codemirror_mode": {
    "name": "ipython",
    "version": 3
   },
   "file_extension": ".py",
   "mimetype": "text/x-python",
   "name": "python",
   "nbconvert_exporter": "python",
   "pygments_lexer": "ipython3",
   "version": "3.7.3"
  }
 },
 "nbformat": 4,
 "nbformat_minor": 4
}
