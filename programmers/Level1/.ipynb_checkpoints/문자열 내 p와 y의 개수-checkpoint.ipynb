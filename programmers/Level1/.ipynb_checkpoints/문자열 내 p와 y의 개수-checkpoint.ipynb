{
 "cells": [
  {
   "cell_type": "code",
   "execution_count": null,
   "metadata": {},
   "outputs": [],
   "source": [
    "def solution(s):\n",
    "    answer = False\n",
    "    count = [0, 0]\n",
    "    for i, vi in enumerate(s):\n",
    "        if vi == 'P' or vi == 'p':\n",
    "            count[0] += 1\n",
    "        elif vi == 'Y' or vi == 'y':\n",
    "            count[1] += 1\n",
    "    if count[0] == count[1]:\n",
    "        answer = True\n",
    "    return answer"
   ]
  }
 ],
 "metadata": {
  "kernelspec": {
   "display_name": "Python 3",
   "language": "python",
   "name": "python3"
  },
  "language_info": {
   "codemirror_mode": {
    "name": "ipython",
    "version": 3
   },
   "file_extension": ".py",
   "mimetype": "text/x-python",
   "name": "python",
   "nbconvert_exporter": "python",
   "pygments_lexer": "ipython3",
   "version": "3.7.3"
  }
 },
 "nbformat": 4,
 "nbformat_minor": 4
}
