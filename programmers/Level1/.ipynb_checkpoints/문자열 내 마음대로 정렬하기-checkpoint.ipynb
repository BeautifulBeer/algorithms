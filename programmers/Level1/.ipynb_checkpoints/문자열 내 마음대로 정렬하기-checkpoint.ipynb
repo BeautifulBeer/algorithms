{
 "cells": [
  {
   "cell_type": "code",
   "execution_count": null,
   "metadata": {},
   "outputs": [],
   "source": [
    "from functools import cmp_to_key\n",
    "\n",
    "def solution(strings, n):\n",
    "    answer = []\n",
    "    def compare(x, y):\n",
    "        if x[n] < y[n]:\n",
    "            return 1\n",
    "        elif x[n] > y[n]:\n",
    "            return -1\n",
    "        else:\n",
    "            if x < y:\n",
    "                return 1\n",
    "            elif x > y:\n",
    "                return -1\n",
    "            else:\n",
    "                return 0\n",
    "    answer = sorted(strings, key=cmp_to_key(compare), reverse=True)\n",
    "    return answer"
   ]
  }
 ],
 "metadata": {
  "kernelspec": {
   "display_name": "Python 3",
   "language": "python",
   "name": "python3"
  },
  "language_info": {
   "codemirror_mode": {
    "name": "ipython",
    "version": 3
   },
   "file_extension": ".py",
   "mimetype": "text/x-python",
   "name": "python",
   "nbconvert_exporter": "python",
   "pygments_lexer": "ipython3",
   "version": "3.7.3"
  }
 },
 "nbformat": 4,
 "nbformat_minor": 4
}
