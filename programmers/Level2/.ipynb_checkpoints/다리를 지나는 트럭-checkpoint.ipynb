{
 "cells": [
  {
   "cell_type": "code",
   "execution_count": null,
   "metadata": {},
   "outputs": [],
   "source": [
    "from queue import Queue\n",
    "\n",
    "def solution(bridge_length, weight, truck_weights):\n",
    "    answer = 0\n",
    "    queue = Queue()\n",
    "    total_weight = 0\n",
    "    current_time = 1\n",
    "    idx = 0\n",
    "    while idx < len(truck_weights):\n",
    "        if truck_weights[idx] + total_weight > weight:\n",
    "            truck = queue.get()\n",
    "            total_weight -= truck[0]\n",
    "            if current_time < truck[1]:\n",
    "                current_time = truck[1]\n",
    "        else:\n",
    "            queue.put((truck_weights[idx], current_time + bridge_length))\n",
    "            total_weight += truck_weights[idx]\n",
    "            current_time += 1\n",
    "            idx += 1\n",
    "    while not queue.empty():\n",
    "        answer = queue.get()[1]\n",
    "    return answer"
   ]
  }
 ],
 "metadata": {
  "kernelspec": {
   "display_name": "Python 3",
   "language": "python",
   "name": "python3"
  },
  "language_info": {
   "codemirror_mode": {
    "name": "ipython",
    "version": 3
   },
   "file_extension": ".py",
   "mimetype": "text/x-python",
   "name": "python",
   "nbconvert_exporter": "python",
   "pygments_lexer": "ipython3",
   "version": "3.7.3"
  }
 },
 "nbformat": 4,
 "nbformat_minor": 4
}
