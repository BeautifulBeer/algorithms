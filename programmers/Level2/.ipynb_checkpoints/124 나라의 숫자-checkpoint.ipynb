{
 "cells": [
  {
   "cell_type": "code",
   "execution_count": null,
   "metadata": {},
   "outputs": [],
   "source": [
    "def solution(n):\n",
    "    answer = ''\n",
    "    remains = 0\n",
    "    chars = ['0', '1', '2', '4']\n",
    "    while n > 0:\n",
    "        remains = n % 3\n",
    "        if remains == 0:\n",
    "            remains = 3\n",
    "        n -= remains\n",
    "        n = n // 3\n",
    "        answer += chars[remains]\n",
    "    answer = answer[::-1]\n",
    "    return answer"
   ]
  }
 ],
 "metadata": {
  "kernelspec": {
   "display_name": "Python 3",
   "language": "python",
   "name": "python3"
  },
  "language_info": {
   "codemirror_mode": {
    "name": "ipython",
    "version": 3
   },
   "file_extension": ".py",
   "mimetype": "text/x-python",
   "name": "python",
   "nbconvert_exporter": "python",
   "pygments_lexer": "ipython3",
   "version": "3.7.3"
  }
 },
 "nbformat": 4,
 "nbformat_minor": 4
}
