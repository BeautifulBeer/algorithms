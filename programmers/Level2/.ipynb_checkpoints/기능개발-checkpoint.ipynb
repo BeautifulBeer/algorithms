{
 "cells": [
  {
   "cell_type": "code",
   "execution_count": null,
   "metadata": {},
   "outputs": [],
   "source": [
    "import math\n",
    "\n",
    "def solution(progresses, speeds):\n",
    "    answer = []\n",
    "    dates = [math.ceil((100 - vi) / speeds[i]) for i, vi in enumerate(progresses)]\n",
    "    idx = 1\n",
    "    tmp = 1\n",
    "    current_day = dates[0]\n",
    "    while idx < len(dates):\n",
    "        if dates[idx] <= current_day:\n",
    "            tmp += 1\n",
    "        else:\n",
    "            answer.append(tmp)\n",
    "            tmp = 1\n",
    "            current_day = dates[idx]\n",
    "        idx += 1\n",
    "    answer.append(tmp)\n",
    "    return answer"
   ]
  }
 ],
 "metadata": {
  "kernelspec": {
   "display_name": "Python 3",
   "language": "python",
   "name": "python3"
  },
  "language_info": {
   "codemirror_mode": {
    "name": "ipython",
    "version": 3
   },
   "file_extension": ".py",
   "mimetype": "text/x-python",
   "name": "python",
   "nbconvert_exporter": "python",
   "pygments_lexer": "ipython3",
   "version": "3.7.3"
  }
 },
 "nbformat": 4,
 "nbformat_minor": 4
}
