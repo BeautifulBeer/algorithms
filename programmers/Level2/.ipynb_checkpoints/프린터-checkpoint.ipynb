{
 "cells": [
  {
   "cell_type": "code",
   "execution_count": null,
   "metadata": {},
   "outputs": [],
   "source": [
    "from queue import Queue\n",
    "\n",
    "def solution(priorities, location):\n",
    "    answer = 0\n",
    "    queue = Queue()\n",
    "    max_value = -1\n",
    "    counts = [0 for i in range(10)]\n",
    "    counts[0] = 1\n",
    "    for i, vi in enumerate(priorities):\n",
    "        queue.put((i, vi))\n",
    "        counts[vi] += 1\n",
    "        if max_value < vi:\n",
    "            max_value = vi\n",
    "    while not queue.empty():\n",
    "        current = queue.get()\n",
    "        if current[1] < max_value:\n",
    "            queue.put(current)\n",
    "        else:\n",
    "            answer += 1\n",
    "            if current[0] == location:\n",
    "                break\n",
    "            else:\n",
    "                counts[current[1]] -= 1\n",
    "                while counts[max_value] == 0:\n",
    "                    max_value -= 1\n",
    "    return answer"
   ]
  }
 ],
 "metadata": {
  "kernelspec": {
   "display_name": "Python 3",
   "language": "python",
   "name": "python3"
  },
  "language_info": {
   "codemirror_mode": {
    "name": "ipython",
    "version": 3
   },
   "file_extension": ".py",
   "mimetype": "text/x-python",
   "name": "python",
   "nbconvert_exporter": "python",
   "pygments_lexer": "ipython3",
   "version": "3.7.3"
  }
 },
 "nbformat": 4,
 "nbformat_minor": 4
}
