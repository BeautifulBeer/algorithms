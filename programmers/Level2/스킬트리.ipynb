{
 "cells": [
  {
   "cell_type": "code",
   "execution_count": null,
   "metadata": {},
   "outputs": [],
   "source": [
    "def solution(skill, skill_trees):\n",
    "    answer = 0\n",
    "    idx = 0\n",
    "    skill_check = [True for i in range(26)]\n",
    "    \n",
    "    def init(arr):\n",
    "        for i, vi in enumerate(skill):\n",
    "            if i > 0:\n",
    "                arr[ord(vi) - ord('A')] = False\n",
    "    \n",
    "    for i, vi in enumerate(skill_trees):\n",
    "        init(skill_check)\n",
    "        idx = 0\n",
    "        flag = True\n",
    "        for j, vj in enumerate(vi):\n",
    "            tmp = ord(vj) - ord('A')\n",
    "            if skill_check[tmp]:\n",
    "                if idx < (len(skill) - 1) and skill[idx] == vj:\n",
    "                    idx += 1\n",
    "                    skill_check[ord(skill[idx]) - ord('A')] = True\n",
    "            else:\n",
    "                flag = False\n",
    "                break\n",
    "        if flag:\n",
    "            answer += 1            \n",
    "    return answer"
   ]
  }
 ],
 "metadata": {
  "kernelspec": {
   "display_name": "Python 3",
   "language": "python",
   "name": "python3"
  },
  "language_info": {
   "codemirror_mode": {
    "name": "ipython",
    "version": 3
   },
   "file_extension": ".py",
   "mimetype": "text/x-python",
   "name": "python",
   "nbconvert_exporter": "python",
   "pygments_lexer": "ipython3",
   "version": "3.7.3"
  }
 },
 "nbformat": 4,
 "nbformat_minor": 4
}
