{
 "cells": [
  {
   "cell_type": "code",
   "execution_count": null,
   "metadata": {},
   "outputs": [],
   "source": [
    "def solution(number, k):\n",
    "    answer = []\n",
    "    prev = 0\n",
    "    def find(left, right):\n",
    "        max = '0'\n",
    "        idx = 0\n",
    "        for i in range(left, right + 1):\n",
    "            if max < number[i]:\n",
    "                max = number[i]\n",
    "                if max == '9':\n",
    "                    break\n",
    "                \n",
    "        for i in range(left, right + 1):\n",
    "            if max == number[i]:\n",
    "                idx = i\n",
    "                break\n",
    "        return max, idx\n",
    "    \n",
    "    for i in range(k, len(number)):\n",
    "        max, idx = find(prev, i)\n",
    "        answer.append(max)\n",
    "        prev = idx + 1\n",
    "    \n",
    "    return ''.join(answer)"
   ]
  }
 ],
 "metadata": {
  "kernelspec": {
   "display_name": "Python 3",
   "language": "python",
   "name": "python3"
  },
  "language_info": {
   "codemirror_mode": {
    "name": "ipython",
    "version": 3
   },
   "file_extension": ".py",
   "mimetype": "text/x-python",
   "name": "python",
   "nbconvert_exporter": "python",
   "pygments_lexer": "ipython3",
   "version": "3.7.3"
  }
 },
 "nbformat": 4,
 "nbformat_minor": 4
}
