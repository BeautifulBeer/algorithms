{
 "cells": [
  {
   "cell_type": "code",
   "execution_count": 110,
   "metadata": {},
   "outputs": [],
   "source": [
    "import heapq\n",
    "\n",
    "def solution(prices):\n",
    "    answer = [0 for i in range(len(prices))]\n",
    "    h = []\n",
    "    for i, vi in enumerate(prices):\n",
    "        while len(h) > 0 and vi < h[0][1][0]:\n",
    "            current = heapq.heappop(h)\n",
    "            answer[current[1][1]] = i - current[1][1]\n",
    "        heapq.heappush(h, (-vi,(vi, i)))\n",
    "        heapq.heapify(h)\n",
    "    while len(h) > 0:\n",
    "        current = heapq.heappop(h)\n",
    "        answer[current[1][1]] = len(prices) - 1 - current[1][1]\n",
    "    return answer"
   ]
  }
 ],
 "metadata": {
  "kernelspec": {
   "display_name": "Python 3",
   "language": "python",
   "name": "python3"
  },
  "language_info": {
   "codemirror_mode": {
    "name": "ipython",
    "version": 3
   },
   "file_extension": ".py",
   "mimetype": "text/x-python",
   "name": "python",
   "nbconvert_exporter": "python",
   "pygments_lexer": "ipython3",
   "version": "3.7.3"
  }
 },
 "nbformat": 4,
 "nbformat_minor": 4
}
