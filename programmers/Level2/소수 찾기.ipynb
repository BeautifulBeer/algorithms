{
 "cells": [
  {
   "cell_type": "code",
   "execution_count": null,
   "metadata": {},
   "outputs": [],
   "source": [
    "import math\n",
    "\n",
    "def solution(numbers):\n",
    "    number_list = []\n",
    "    arr = []\n",
    "    flags = [False for i in range(len(numbers))]\n",
    "    answer = 0\n",
    "    \n",
    "    def isPrime(number):\n",
    "        if number < 2:\n",
    "            return 0\n",
    "        bound = int(math.sqrt(number))\n",
    "        for i in range(2, bound + 1):\n",
    "            if number % i == 0:\n",
    "                return 0\n",
    "        return 1\n",
    "    \n",
    "    def check(depth):\n",
    "        if depth == len(arr):\n",
    "            number = int('0'+''.join(arr))\n",
    "            number_list.append(number)\n",
    "            return\n",
    "        tmp = arr[depth]\n",
    "        arr[depth] = ''\n",
    "        check(depth+1)\n",
    "        arr[depth] = tmp\n",
    "        check(depth+1)\n",
    "\n",
    "\n",
    "    def shuffle():\n",
    "        if len(arr) == len(numbers):\n",
    "            return check(0)\n",
    "        for i, vi in enumerate(numbers):\n",
    "            if not flags[i]:\n",
    "                arr.append(vi)\n",
    "                flags[i] = True\n",
    "                shuffle()\n",
    "                arr.pop()\n",
    "                flags[i] = False    \n",
    "\n",
    "    shuffle()\n",
    "    number_list = set(number_list)\n",
    "    \n",
    "    for i, vi in enumerate(number_list):\n",
    "        answer += isPrime(vi)\n",
    "                \n",
    "    return answer"
   ]
  }
 ],
 "metadata": {
  "kernelspec": {
   "display_name": "Python 3",
   "language": "python",
   "name": "python3"
  },
  "language_info": {
   "codemirror_mode": {
    "name": "ipython",
    "version": 3
   },
   "file_extension": ".py",
   "mimetype": "text/x-python",
   "name": "python",
   "nbconvert_exporter": "python",
   "pygments_lexer": "ipython3",
   "version": "3.7.3"
  }
 },
 "nbformat": 4,
 "nbformat_minor": 4
}
